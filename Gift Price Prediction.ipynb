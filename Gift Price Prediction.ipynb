{
 "cells": [
  {
   "cell_type": "markdown",
   "metadata": {},
   "source": [
    "# **HackerEarth Machine Learning ... price for Good Friday gifts**"
   ]
  },
  {
   "cell_type": "markdown",
   "metadata": {},
   "source": [
    "Importing required libraries"
   ]
  },
  {
   "cell_type": "code",
   "execution_count": null,
   "metadata": {},
   "outputs": [],
   "source": [
    "import numpy as np\n",
    "import pandas as pd\n",
    "from pandas_profiling import ProfileReport\n",
    "from sklearn.ensemble import RandomForestRegressor\n",
    "from sklearn.model_selection import train_test_split\n",
    "from sklearn.metrics import mean_absolute_error\n",
    "from datetime import date,datetime,timedelta\n",
    "import matplotlib.pyplot as plt\n",
    "from sklearn.preprocessing import StandardScaler\n",
    "from sklearn.metrics import mean_squared_error"
   ]
  },
  {
   "cell_type": "markdown",
   "metadata": {},
   "source": [
    "Reading training dataset from local"
   ]
  },
  {
   "cell_type": "code",
   "execution_count": null,
   "metadata": {},
   "outputs": [],
   "source": [
    "dataset=pd.read_csv(\"F:\\\\Machine Learning\\\\HackerEarth\\\\dataset\\\\train.csv\") "
   ]
  },
  {
   "cell_type": "markdown",
   "metadata": {},
   "source": [
    "Reading test dataset from local"
   ]
  },
  {
   "cell_type": "code",
   "execution_count": null,
   "metadata": {},
   "outputs": [],
   "source": [
    "test_dataset=pd.read_csv(\"F:\\\\Machine Learning\\\\HackerEarth\\\\dataset\\\\test.csv\") "
   ]
  },
  {
   "cell_type": "markdown",
   "metadata": {},
   "source": [
    "Performing exploratory data analytics to understand feature corelations and interactions"
   ]
  },
  {
   "cell_type": "code",
   "execution_count": null,
   "metadata": {},
   "outputs": [],
   "source": [
    "prof = ProfileReport(dataset)\n",
    "prof.to_notebook_iframe()\n",
    "prof.to_widgets()"
   ]
  },
  {
   "cell_type": "markdown",
   "metadata": {},
   "source": [
    "Converting the features containing timestamp from string to datetime"
   ]
  },
  {
   "cell_type": "code",
   "execution_count": null,
   "metadata": {},
   "outputs": [],
   "source": [
    "dataset['uk_date1'] = pd.to_datetime(dataset['uk_date1'], infer_datetime_format=True)\n",
    "dataset['uk_date2'] = pd.to_datetime(dataset['uk_date2'], infer_datetime_format=True)\n",
    "dataset['instock_date'] = pd.to_datetime(dataset['instock_date'], infer_datetime_format=True)\n",
    "dataset['stock_update_date'] = pd.to_datetime(dataset['stock_update_date'], infer_datetime_format=True)"
   ]
  },
  {
   "cell_type": "markdown",
   "metadata": {},
   "source": [
    "Adding new features by calculating the time difference between the datetime fields in seconds in order to effectively use them for model building"
   ]
  },
  {
   "cell_type": "code",
   "execution_count": null,
   "metadata": {},
   "outputs": [],
   "source": [
    "dataset['buy_wait_1']=abs(dataset['uk_date1']-dataset['instock_date']).dt.total_seconds()\n",
    "dataset['buy_wait_2']=abs(dataset['uk_date2']-dataset['instock_date']).dt.total_seconds()\n",
    "dataset['stock_update_tm']=abs(dataset['stock_update_date']-dataset['instock_date']).dt.total_seconds()"
   ]
  },
  {
   "cell_type": "markdown",
   "metadata": {},
   "source": [
    "performing the same string to datetime conversions for the test dataset"
   ]
  },
  {
   "cell_type": "code",
   "execution_count": null,
   "metadata": {},
   "outputs": [],
   "source": [
    "test_dataset['uk_date1'] = pd.to_datetime(test_dataset['uk_date1'], infer_datetime_format=True)\n",
    "test_dataset['uk_date2'] = pd.to_datetime(test_dataset['uk_date2'], infer_datetime_format=True)\n",
    "test_dataset['instock_date'] = pd.to_datetime(test_dataset['instock_date'], infer_datetime_format=True)\n",
    "test_dataset['stock_update_date'] = pd.to_datetime(test_dataset['stock_update_date'], infer_datetime_format=True)"
   ]
  },
  {
   "cell_type": "markdown",
   "metadata": {},
   "source": [
    "Adding new features in test dataset by calculating the time difference between the datetime fields in seconds in order to effectively use them for prediction"
   ]
  },
  {
   "cell_type": "code",
   "execution_count": null,
   "metadata": {},
   "outputs": [],
   "source": [
    "test_dataset['buy_wait_1']=abs(test_dataset['uk_date1']-test_dataset['instock_date']).dt.total_seconds()\n",
    "test_dataset['buy_wait_2']=abs(test_dataset['uk_date2']-test_dataset['instock_date']).dt.total_seconds()\n",
    "test_dataset['stock_update_tm']=abs(test_dataset['stock_update_date']-test_dataset['instock_date']).dt.total_seconds()"
   ]
  },
  {
   "cell_type": "markdown",
   "metadata": {},
   "source": [
    "Choosing required  features for model building based on EDA"
   ]
  },
  {
   "cell_type": "code",
   "execution_count": null,
   "metadata": {},
   "outputs": [],
   "source": [
    "features=['lsg_5','stock_update_tm','buy_wait_1', 'buy_wait_2', 'lsg_2', 'gift_category', 'lsg_4', 'gift_type', 'lsg_1', 'lsg_3', 'gift_cluster','lsg_6', 'is_discounted']"
   ]
  },
  {
   "cell_type": "markdown",
   "metadata": {},
   "source": [
    "creating the dependent and independent variables for training and testing"
   ]
  },
  {
   "cell_type": "code",
   "execution_count": null,
   "metadata": {},
   "outputs": [],
   "source": [
    "train=dataset[features]\n",
    "\n",
    "y=dataset['price']\n",
    "\n",
    "test=test_dataset[features]"
   ]
  },
  {
   "cell_type": "markdown",
   "metadata": {},
   "source": [
    "Scaling the training and test data"
   ]
  },
  {
   "cell_type": "code",
   "execution_count": null,
   "metadata": {},
   "outputs": [],
   "source": [
    "scaler = StandardScaler()\n",
    "\n",
    "scaler.fit(train)\n",
    "train = scaler.transform(train)\n",
    "\n",
    "scaler.fit(test)\n",
    "test=scaler.transform(test)"
   ]
  },
  {
   "cell_type": "markdown",
   "metadata": {},
   "source": [
    "Creating a base model to determine the ideal hyper parameters for building the a model with most accuracy"
   ]
  },
  {
   "cell_type": "code",
   "execution_count": null,
   "metadata": {},
   "outputs": [],
   "source": [
    "model=RandomForestRegressor(n_jobs=-1)\n",
    "\n",
    "train_X, val_X, train_y, val_y = train_test_split(train, y,test_size=0.1, random_state = 0)\n",
    "#Trying different n_estimators values for hyper parameter tunig to yeild the best scores\n",
    "n_estimators = np.arange(10, 400, 10)\n",
    "scores = []\n",
    "for n in n_estimators:\n",
    "    model.set_params(n_estimators=n)\n",
    "    model.fit(train_X, train_y)\n",
    "    scores.append(model.score(val_X, val_y))\n",
    "    \n",
    "#Ploting the scores for each estimator value    \n",
    "plt.title(\"Effect of n_estimators\")\n",
    "plt.xlabel(\"n_estimator\")\n",
    "plt.ylabel(\"score\")\n",
    "plt.plot(estimators, scores)"
   ]
  },
  {
   "cell_type": "markdown",
   "metadata": {},
   "source": [
    "Creating the actual model based on the best n_estimator values and creating a prediction for the test data"
   ]
  },
  {
   "cell_type": "code",
   "execution_count": null,
   "metadata": {},
   "outputs": [],
   "source": [
    "pricing_model=RandomForestRegressor(n_jobs=-1,n_estimators=350)\n",
    "predictions = pricing_model.predict(test)"
   ]
  },
  {
   "cell_type": "markdown",
   "metadata": {},
   "source": [
    "Saving the data to a local file"
   ]
  },
  {
   "cell_type": "code",
   "execution_count": null,
   "metadata": {},
   "outputs": [],
   "source": [
    "test_gift_id=(test_dataset['gift_id'])\n",
    "submission=pd.DataFrame(test_gift_id)\n",
    "submission['price']=predictions\n",
    "submission_file=submission.to_csv(\"F:\\\\Machine Learning\\\\HackerEarth\\\\dataset\\\\submission.csv\",index = None, header=True)"
   ]
  }
 ],
 "metadata": {
  "kernelspec": {
   "display_name": "Python 3",
   "language": "python",
   "name": "python3"
  },
  "language_info": {
   "codemirror_mode": {
    "name": "ipython",
    "version": 3
   },
   "file_extension": ".py",
   "mimetype": "text/x-python",
   "name": "python",
   "nbconvert_exporter": "python",
   "pygments_lexer": "ipython3",
   "version": "3.7.4"
  }
 },
 "nbformat": 4,
 "nbformat_minor": 2
}
